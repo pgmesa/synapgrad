{
 "cells": [
  {
   "attachments": {},
   "cell_type": "markdown",
   "metadata": {},
   "source": [
    "### MNIST dataset MLP example with synapgrad"
   ]
  },
  {
   "cell_type": "code",
   "execution_count": 1,
   "metadata": {},
   "outputs": [],
   "source": [
    "import os\n",
    "import sys\n",
    "import numpy as np\n",
    "import matplotlib.pyplot as plt\n",
    "from keras.datasets import mnist\n",
    "\n",
    "# Import .././ directory\n",
    "module_path = os.path.abspath(os.path.join('..'))\n",
    "if module_path not in sys.path:\n",
    "    sys.path.append(module_path)"
   ]
  },
  {
   "cell_type": "code",
   "execution_count": 2,
   "metadata": {},
   "outputs": [],
   "source": [
    "from synapgrad.utils.data import split_dataset, DataLoader, DataLoaderCallback\n",
    "from synapgrad.utils.train import Trainer, Evaluator"
   ]
  },
  {
   "cell_type": "code",
   "execution_count": 3,
   "metadata": {},
   "outputs": [],
   "source": [
    "supported_engines = ['synapgrad', 'torch']"
   ]
  },
  {
   "cell_type": "code",
   "execution_count": 4,
   "metadata": {},
   "outputs": [],
   "source": [
    "seed = 1337\n",
    "engine_str = 'synapgrad'"
   ]
  },
  {
   "cell_type": "code",
   "execution_count": 5,
   "metadata": {},
   "outputs": [],
   "source": [
    "epochs = 20\n",
    "batch_size = 64\n",
    "lr = 0.01"
   ]
  },
  {
   "cell_type": "code",
   "execution_count": 6,
   "metadata": {},
   "outputs": [
    {
     "name": "stdout",
     "output_type": "stream",
     "text": [
      "Engine: synapgrad\n"
     ]
    }
   ],
   "source": [
    "if engine_str == 'synapgrad':\n",
    "    import synapgrad as engine\n",
    "    from synapgrad import nn\n",
    "    from synapgrad import optim\n",
    "elif engine_str == 'torch':\n",
    "    import torch as engine\n",
    "    from torch import nn\n",
    "    from torch import optim\n",
    "engine.manual_seed(seed)\n",
    "print(\"Engine:\", engine_str)"
   ]
  },
  {
   "attachments": {},
   "cell_type": "markdown",
   "metadata": {},
   "source": [
    "Load dataset"
   ]
  },
  {
   "cell_type": "code",
   "execution_count": 7,
   "metadata": {},
   "outputs": [
    {
     "name": "stdout",
     "output_type": "stream",
     "text": [
      "Train: X=(48000, 28, 28), y=(48000,)\n",
      "Val: X=(12000, 28, 28), y=(12000,)\n",
      "Test: X=(10000, 28, 28), y=(10000,)\n"
     ]
    }
   ],
   "source": [
    "(trainX, trainy), (testX, testy) = mnist.load_data()\n",
    "(trainX, trainy), (valX, valy), _  = split_dataset(trainX, trainy, test_split=0.2)\n",
    "\n",
    "trainX = trainX / 255.0\n",
    "valX = valX / 255.0\n",
    "testX = testX / 255.0\n",
    "\n",
    "assert 0 <= np.max(trainX) <= 1\n",
    "\n",
    "# summarize loaded dataset\n",
    "print('Train: X=%s, y=%s' % (trainX.shape, trainy.shape))\n",
    "print('Val: X=%s, y=%s' % (valX.shape, valy.shape))\n",
    "print('Test: X=%s, y=%s' % (testX.shape, testy.shape))"
   ]
  },
  {
   "cell_type": "code",
   "execution_count": 8,
   "metadata": {},
   "outputs": [
    {
     "name": "stdout",
     "output_type": "stream",
     "text": [
      "Train batches: 750 | Val batches: 46 | Test batches: 39\n"
     ]
    }
   ],
   "source": [
    "class Transform(DataLoaderCallback):\n",
    "    \n",
    "    def __call__(self, data_loader:'DataLoader', X_batch:np.ndarray, y_batch:np.ndarray):\n",
    "        if engine_str == 'torch':\n",
    "            x = engine.tensor(X_batch).type(engine.FloatTensor)\n",
    "            y = engine.tensor(y_batch).type(engine.LongTensor)\n",
    "        elif engine_str == 'synapgrad':\n",
    "            x = engine.tensor(X_batch)\n",
    "            y = engine.tensor(y_batch, dtype=np.int8)\n",
    "        return x, y\n",
    "\n",
    "transform_cb = Transform()\n",
    "\n",
    "train_loader = DataLoader(trainX, trainy, batch_size, engine=engine, transform=transform_cb)\n",
    "val_loader = DataLoader(valX, valy, batch_size=256, engine=engine, transform=transform_cb) # big batch size for val samples\n",
    "test_loader = DataLoader(testX, testy, batch_size=256, engine=engine, transform=transform_cb) # big batch size for val samples\n",
    "\n",
    "print(\"Train batches:\", len(train_loader), \"| Val batches:\", len(val_loader), \"| Test batches:\", len(test_loader))"
   ]
  },
  {
   "attachments": {},
   "cell_type": "markdown",
   "metadata": {},
   "source": [
    "Plot a few training images"
   ]
  },
  {
   "cell_type": "code",
   "execution_count": 9,
   "metadata": {},
   "outputs": [
    {
     "data": {
      "image/png": "[encoded data removed]",
      "text/plain": [
       "<Figure size 504x504 with 9 Axes>"
      ]
     },
     "metadata": {
      "needs_background": "light"
     },
     "output_type": "display_data"
    }
   ],
   "source": [
    "plt.figure(figsize=(7,7))\n",
    "for i in range(9):\n",
    "    plt.subplot(330 + 1 + i)\n",
    "    plt.imshow(trainX[i], cmap=plt.get_cmap('gray'))\n",
    "plt.show()"
   ]
  },
  {
   "cell_type": "code",
   "execution_count": 10,
   "metadata": {},
   "outputs": [
    {
     "name": "stdout",
     "output_type": "stream",
     "text": [
      "MLP Model: MultiLayerPerceptron(tracked_modules=1, parameters=178710, trainable=178710, non_trainable=0)\n",
      "MLP Trainable Parameters: 178710\n"
     ]
    }
   ],
   "source": [
    "class MultiLayerPerceptron(nn.Module):\n",
    "    \n",
    "    def __init__(self):\n",
    "        super().__init__()\n",
    "        self.flatten = nn.Flatten(start_dim=1, end_dim=-1)\n",
    "        self.linear1 = nn.Linear(784, 200)\n",
    "        self.batchnorm1 = nn.BatchNorm1d(200)\n",
    "        self.linear2 = nn.Linear(200, 100)\n",
    "        self.batchnorm2 = nn.BatchNorm1d(100)\n",
    "        self.logits = nn.Linear(100, 10)\n",
    "        self.relu = nn.ReLU()\n",
    "        self.dropout = nn.Dropout(p=0.2)\n",
    "        self.log_probs = nn.LogSoftmax(dim=1) \n",
    "        \n",
    "        self.mlp = nn.Sequential(\n",
    "            self.flatten,\n",
    "            self.linear1,\n",
    "            self.relu,\n",
    "            self.batchnorm1,\n",
    "            self.dropout,\n",
    "            self.linear2,\n",
    "            self.relu,\n",
    "            self.batchnorm2,\n",
    "            self.logits,\n",
    "            self.log_probs\n",
    "        )\n",
    "        if engine_str == 'synapgrad': self.track_module(self.mlp)\n",
    "        \n",
    "    def forward(self, x:engine.Tensor):\n",
    "        out = self.mlp(x)\n",
    "        \n",
    "        return out\n",
    "\n",
    "model = MultiLayerPerceptron()\n",
    "print(\"MLP Model:\", model)\n",
    "print(\"MLP Trainable Parameters:\", sum(p.numel() for p in model.parameters() if p.requires_grad))"
   ]
  },
  {
   "cell_type": "code",
   "execution_count": 11,
   "metadata": {},
   "outputs": [
    {
     "name": "stdout",
     "output_type": "stream",
     "text": [
      "Epoch: 1/20\n",
      "750/750 [================================] - 6s 8ms/step - loss: 0.4082 - accuracy: 0.8926 - val_loss: 0.1906 - val_accuracy: 0.9466\n",
      "Epoch: 2/20\n",
      "750/750 [================================] - 6s 8ms/step - loss: 0.1783 - accuracy: 0.9462 - val_loss: 0.1467 - val_accuracy: 0.9591\n",
      "Epoch: 3/20\n",
      "750/750 [================================] - 6s 9ms/step - loss: 0.1385 - accuracy: 0.9569 - val_loss: 0.1160 - val_accuracy: 0.9659\n",
      "Epoch: 4/20\n",
      "750/750 [================================] - 7s 9ms/step - loss: 0.1139 - accuracy: 0.9652 - val_loss: 0.1058 - val_accuracy: 0.9694\n",
      "Epoch: 5/20\n",
      "750/750 [================================] - 7s 9ms/step - loss: 0.0972 - accuracy: 0.9694 - val_loss: 0.0991 - val_accuracy: 0.9715\n",
      "Epoch: 6/20\n",
      "750/750 [================================] - 9s 12ms/step - loss: 0.0854 - accuracy: 0.9727 - val_loss: 0.1012 - val_accuracy: 0.9705\n",
      "Epoch: 7/20\n",
      "750/750 [================================] - 7s 9ms/step - loss: 0.0756 - accuracy: 0.9759 - val_loss: 0.0950 - val_accuracy: 0.9719\n",
      "Epoch: 8/20\n",
      "750/750 [================================] - 6s 8ms/step - loss: 0.0644 - accuracy: 0.9791 - val_loss: 0.1060 - val_accuracy: 0.9721\n",
      "Epoch: 9/20\n",
      "750/750 [================================] - 8s 11ms/step - loss: 0.0588 - accuracy: 0.9808 - val_loss: 0.0911 - val_accuracy: 0.9735\n",
      "Epoch: 10/20\n",
      "750/750 [================================] - 9s 12ms/step - loss: 0.0521 - accuracy: 0.9831 - val_loss: 0.0876 - val_accuracy: 0.9748\n",
      "Epoch: 11/20\n",
      "750/750 [================================] - 8s 10ms/step - loss: 0.0493 - accuracy: 0.9839 - val_loss: 0.0894 - val_accuracy: 0.9748\n",
      "Epoch: 12/20\n",
      "750/750 [================================] - 7s 10ms/step - loss: 0.0458 - accuracy: 0.9851 - val_loss: 0.0883 - val_accuracy: 0.9754\n",
      "Epoch: 13/20\n",
      "750/750 [================================] - 7s 9ms/step - loss: 0.0392 - accuracy: 0.9874 - val_loss: 0.0857 - val_accuracy: 0.9761\n",
      "Epoch: 14/20\n",
      "750/750 [================================] - 7s 9ms/step - loss: 0.0365 - accuracy: 0.9882 - val_loss: 0.0844 - val_accuracy: 0.9761\n",
      "Epoch: 15/20\n",
      "750/750 [================================] - 8s 11ms/step - loss: 0.0356 - accuracy: 0.9880 - val_loss: 0.0907 - val_accuracy: 0.9754\n",
      "Epoch: 16/20\n",
      "750/750 [================================] - 7s 9ms/step - loss: 0.0333 - accuracy: 0.9890 - val_loss: 0.0903 - val_accuracy: 0.9760\n",
      "Epoch: 17/20\n",
      "750/750 [================================] - 6s 8ms/step - loss: 0.0295 - accuracy: 0.9904 - val_loss: 0.0874 - val_accuracy: 0.9771\n",
      "Epoch: 18/20\n",
      "750/750 [================================] - 9s 12ms/step - loss: 0.0292 - accuracy: 0.9902 - val_loss: 0.0898 - val_accuracy: 0.9766\n",
      "Epoch: 19/20\n",
      "750/750 [================================] - 9s 12ms/step - loss: 0.0281 - accuracy: 0.9909 - val_loss: 0.0870 - val_accuracy: 0.9773\n",
      "Epoch: 20/20\n",
      "750/750 [================================] - 8s 10ms/step - loss: 0.0259 - accuracy: 0.9911 - val_loss: 0.0896 - val_accuracy: 0.9782\n"
     ]
    }
   ],
   "source": [
    "loss_fn = nn.NLLLoss()\n",
    "optimizer = optim.SGD(model.parameters(), lr=lr, momentum=0.9)\n",
    "\n",
    "trainer = Trainer(model, engine)\n",
    "evaluator = Evaluator(accuracy=True, mode=Evaluator.MULTI_CLASS)\n",
    "trainer.compile(loss_fn, optimizer, evaluator)\n",
    "history = trainer.fit(train_loader, epochs=epochs, validation_loader=val_loader)"
   ]
  },
  {
   "cell_type": "code",
   "execution_count": 12,
   "metadata": {},
   "outputs": [
    {
     "data": {
      "image/png": "[encoded data removed]",
      "text/plain": [
       "<Figure size 1080x360 with 2 Axes>"
      ]
     },
     "metadata": {
      "needs_background": "light"
     },
     "output_type": "display_data"
    }
   ],
   "source": [
    "trainer.plot(['accuracy', 'loss'], ylim=[0, 1])"
   ]
  },
  {
   "cell_type": "code",
   "execution_count": 13,
   "metadata": {},
   "outputs": [
    {
     "name": "stdout",
     "output_type": "stream",
     "text": [
      "[INFO] Testing network...\n",
      "Accuracy: 0.9766626602564102\n",
      "[[ 971    1    0    0    0    4    0    2    0    1]\n",
      " [   0 1124    3    1    0    0    2    0    3    0]\n",
      " [   9    2 1001    2    1    1    3    6    4    1]\n",
      " [   0    0    3  988    0    3    0    6    5    3]\n",
      " [   1    0    2    1  948    0    4    2    1   21]\n",
      " [   3    1    1   13    2  856    4    1    4    5]\n",
      " [   3    3    0    1    4    6  937    0    2    0]\n",
      " [   2    4   13    2    2    0    0  991    4    9]\n",
      " [   2    0    2    6    2    4    1    3  951    2]\n",
      " [   2    4    0    2   10    1    1    2    2  984]]\n",
      "              precision    recall  f1-score   support\n",
      "\n",
      "           0       0.98      0.99      0.98       979\n",
      "           1       0.99      0.99      0.99      1133\n",
      "           2       0.98      0.97      0.97      1030\n",
      "           3       0.97      0.98      0.98      1008\n",
      "           4       0.98      0.97      0.97       980\n",
      "           5       0.98      0.96      0.97       890\n",
      "           6       0.98      0.98      0.98       956\n",
      "           7       0.98      0.96      0.97      1027\n",
      "           8       0.97      0.98      0.98       973\n",
      "           9       0.96      0.98      0.97      1008\n",
      "\n",
      "    accuracy                           0.98      9984\n",
      "   macro avg       0.98      0.98      0.98      9984\n",
      "weighted avg       0.98      0.98      0.98      9984\n",
      "\n"
     ]
    }
   ],
   "source": [
    "y_pred, y_true = trainer.test(test_loader)\n",
    "evaluator.report(y_pred, y_true)"
   ]
  },
  {
   "cell_type": "code",
   "execution_count": 14,
   "metadata": {},
   "outputs": [
    {
     "data": {
      "image/png": "[encoded data removed]",
      "text/plain": [
       "<Figure size 864x864 with 9 Axes>"
      ]
     },
     "metadata": {
      "needs_background": "light"
     },
     "output_type": "display_data"
    }
   ],
   "source": [
    "plt.figure(figsize=(12,12))\n",
    "for i in range(9):\n",
    "    plt.subplot(330 + 1 + i)\n",
    "    plt.imshow(testX[i].reshape(28,28), cmap=plt.get_cmap('gray'))\n",
    "    pred = y_pred[i].argmax(); label = y_true[i]\n",
    "    plt.title(f\"Pred: {pred} | Class: {label}\")\n",
    "plt.show()"
   ]
  }
 ],
 "metadata": {
  "kernelspec": {
   "display_name": "base",
   "language": "python",
   "name": "python3"
  },
  "language_info": {
   "codemirror_mode": {
    "name": "ipython",
    "version": 3
   },
   "file_extension": ".py",
   "mimetype": "text/x-python",
   "name": "python",
   "nbconvert_exporter": "python",
   "pygments_lexer": "ipython3",
   "version": "3.9.12"
  },
  "orig_nbformat": 4
 },
 "nbformat": 4,
 "nbformat_minor": 2
}
