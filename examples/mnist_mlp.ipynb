{
 "cells": [
  {
   "attachments": {},
   "cell_type": "markdown",
   "metadata": {},
   "source": [
    "### MNIST dataset MLP example with synapgrad"
   ]
  },
  {
   "cell_type": "code",
   "execution_count": null,
   "metadata": {},
   "outputs": [],
   "source": [
    "import os\n",
    "import sys\n",
    "import numpy as np\n",
    "import matplotlib.pyplot as plt\n",
    "from torchvision import datasets\n",
    "\n",
    "# Import .././ directory\n",
    "module_path = os.path.abspath(os.path.join('..'))\n",
    "if module_path not in sys.path:\n",
    "    sys.path.append(module_path)"
   ]
  },
  {
   "cell_type": "code",
   "execution_count": null,
   "metadata": {},
   "outputs": [],
   "source": [
    "from synapgrad.nn.utils.data import split_dataset, DataLoader, DataLoaderCallback\n",
    "from synapgrad.nn.utils.train import Trainer, Evaluator"
   ]
  },
  {
   "cell_type": "code",
   "execution_count": null,
   "metadata": {},
   "outputs": [],
   "source": [
    "supported_engines = ['synapgrad', 'torch']"
   ]
  },
  {
   "cell_type": "code",
   "execution_count": null,
   "metadata": {},
   "outputs": [],
   "source": [
    "seed = 42\n",
    "engine_str = 'synapgrad'"
   ]
  },
  {
   "cell_type": "code",
   "execution_count": null,
   "metadata": {},
   "outputs": [],
   "source": [
    "epochs = 20\n",
    "batch_size = 64\n",
    "lr = 0.01"
   ]
  },
  {
   "cell_type": "code",
   "execution_count": null,
   "metadata": {},
   "outputs": [],
   "source": [
    "if engine_str == 'synapgrad':\n",
    "    import synapgrad as engine\n",
    "    from synapgrad import nn\n",
    "    from synapgrad import optim\n",
    "elif engine_str == 'torch':\n",
    "    import torch as engine\n",
    "    from torch import nn\n",
    "    from torch import optim\n",
    "engine.manual_seed(seed)\n",
    "print(\"Engine:\", engine_str)"
   ]
  },
  {
   "attachments": {},
   "cell_type": "markdown",
   "metadata": {},
   "source": [
    "Load dataset"
   ]
  },
  {
   "cell_type": "code",
   "execution_count": null,
   "metadata": {},
   "outputs": [],
   "source": [
    "train_set = datasets.MNIST('./mnist', train=True, download=True)\n",
    "test_set = datasets.MNIST('./mnist', train=False, download=True)\n",
    "\n",
    "trainX = train_set.data.numpy()\n",
    "trainY = train_set.targets.numpy()\n",
    "testX = test_set.data.numpy()\n",
    "testY = test_set.targets.numpy()\n",
    "\n",
    "(trainX, trainY), (valX, valY), _  = split_dataset(trainX, trainY, test_split=0.2)\n",
    "\n",
    "trainX = trainX / 255.0\n",
    "valX = valX / 255.0\n",
    "testX = testX / 255.0\n",
    "\n",
    "assert 0 <= np.max(trainX) <= 1\n",
    "\n",
    "# summarize loaded dataset\n",
    "print('Train: X=%s, y=%s' % (trainX.shape, trainY.shape))\n",
    "print('Val: X=%s, y=%s' % (valX.shape, valY.shape))\n",
    "print('Test: X=%s, y=%s' % (testX.shape, testY.shape))"
   ]
  },
  {
   "cell_type": "code",
   "execution_count": null,
   "metadata": {},
   "outputs": [],
   "source": [
    "class Transform(DataLoaderCallback):\n",
    "    \n",
    "    def __call__(self, data_loader:'DataLoader', X_batch:np.ndarray, y_batch:np.ndarray):\n",
    "        if engine_str == 'torch':\n",
    "            x = engine.tensor(X_batch).type(engine.FloatTensor)\n",
    "            y = engine.tensor(y_batch).type(engine.LongTensor)\n",
    "        elif engine_str == 'synapgrad':\n",
    "            x = engine.tensor(X_batch)\n",
    "            y = engine.tensor(y_batch, dtype=np.int8)\n",
    "        return x, y\n",
    "\n",
    "transform_cb = Transform()\n",
    "\n",
    "train_loader = DataLoader(trainX, trainY, batch_size, transform=transform_cb)\n",
    "val_loader = DataLoader(valX, valY, batch_size=256, transform=transform_cb) # big batch size for val samples\n",
    "test_loader = DataLoader(testX, testY, batch_size=256, transform=transform_cb) # big batch size for test samples\n",
    "\n",
    "print(\"Train batches:\", len(train_loader), \"| Val batches:\", len(val_loader), \"| Test batches:\", len(test_loader))"
   ]
  },
  {
   "attachments": {},
   "cell_type": "markdown",
   "metadata": {},
   "source": [
    "Plot a few training images"
   ]
  },
  {
   "cell_type": "code",
   "execution_count": null,
   "metadata": {},
   "outputs": [],
   "source": [
    "plt.figure(figsize=(7,7))\n",
    "for i in range(9):\n",
    "    plt.subplot(330 + 1 + i)\n",
    "    plt.imshow(trainX[i], cmap=plt.get_cmap('gray'))\n",
    "plt.show()"
   ]
  },
  {
   "cell_type": "code",
   "execution_count": null,
   "metadata": {},
   "outputs": [],
   "source": [
    "class MultiLayerPerceptron(nn.Module):\n",
    "    \n",
    "    def __init__(self):\n",
    "        super().__init__()\n",
    "    \n",
    "        self.mlp = nn.Sequential(\n",
    "            nn.Flatten(start_dim=1, end_dim=-1),\n",
    "            nn.Linear(784, 200),\n",
    "            #nn.BatchNorm1d(200),\n",
    "            nn.ReLU(),\n",
    "            nn.Dropout(p=0.2),\n",
    "            nn.Linear(200, 100),\n",
    "            #nn.BatchNorm1d(100),\n",
    "            nn.ReLU(),\n",
    "            nn.Linear(100, 10),\n",
    "            nn.LogSoftmax(dim=1)\n",
    "        )\n",
    "        \n",
    "    def forward(self, x:engine.Tensor):\n",
    "        out = self.mlp(x)\n",
    "        \n",
    "        return out\n",
    "\n",
    "model = MultiLayerPerceptron()\n",
    "print(\"MLP Model:\", model)\n",
    "print(\"MLP Trainable Parameters:\", sum(p.numel() for p in model.parameters() if p.requires_grad))"
   ]
  },
  {
   "cell_type": "code",
   "execution_count": null,
   "metadata": {},
   "outputs": [],
   "source": [
    "loss_fn = nn.NLLLoss()\n",
    "optimizer = optim.SGD(model.parameters(), lr=lr, momentum=0.9)\n",
    "\n",
    "trainer = Trainer(model, engine)\n",
    "evaluator = Evaluator(accuracy=True, mode=Evaluator.MULTI_CLASS)\n",
    "trainer.compile(loss_fn, optimizer, evaluator)\n",
    "history = trainer.fit(train_loader, epochs=epochs, validation_loader=val_loader)"
   ]
  },
  {
   "cell_type": "code",
   "execution_count": null,
   "metadata": {},
   "outputs": [],
   "source": [
    "trainer.plot(['accuracy', 'loss'], ylim=[0, 1])"
   ]
  },
  {
   "cell_type": "code",
   "execution_count": null,
   "metadata": {},
   "outputs": [],
   "source": [
    "y_pred, y_true = trainer.test(test_loader)\n",
    "evaluator.report(y_pred, y_true)"
   ]
  },
  {
   "cell_type": "code",
   "execution_count": null,
   "metadata": {},
   "outputs": [],
   "source": [
    "plt.figure(figsize=(12,12))\n",
    "for i in range(9):\n",
    "    plt.subplot(330 + 1 + i)\n",
    "    plt.imshow(testX[i].reshape(28,28), cmap=plt.get_cmap('gray'))\n",
    "    pred = y_pred[i].argmax(); label = y_true[i]\n",
    "    plt.title(f\"Pred: {pred} | Class: {label}\")\n",
    "plt.show()"
   ]
  }
 ],
 "metadata": {
  "kernelspec": {
   "display_name": "base",
   "language": "python",
   "name": "python3"
  },
  "language_info": {
   "codemirror_mode": {
    "name": "ipython",
    "version": 3
   },
   "file_extension": ".py",
   "mimetype": "text/x-python",
   "name": "python",
   "nbconvert_exporter": "python",
   "pygments_lexer": "ipython3",
   "version": "3.9.16"
  },
  "orig_nbformat": 4
 },
 "nbformat": 4,
 "nbformat_minor": 2
}
