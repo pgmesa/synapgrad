{
 "cells": [
  {
   "attachments": {},
   "cell_type": "markdown",
   "metadata": {},
   "source": [
    "### MNIST dataset MLP example with synapgrad"
   ]
  },
  {
   "cell_type": "code",
   "execution_count": 1,
   "metadata": {},
   "outputs": [],
   "source": [
    "import os\n",
    "import sys\n",
    "import numpy as np\n",
    "import matplotlib.pyplot as plt\n",
    "from keras.datasets import mnist\n",
    "\n",
    "# Import .././ directory\n",
    "module_path = os.path.abspath(os.path.join('..'))\n",
    "if module_path not in sys.path:\n",
    "    sys.path.append(module_path)"
   ]
  },
  {
   "cell_type": "code",
   "execution_count": 2,
   "metadata": {},
   "outputs": [],
   "source": [
    "from synapgrad.utils.data import split_dataset, DataLoader, DataLoaderCallback\n",
    "from synapgrad.utils.train import Trainer, Evaluator"
   ]
  },
  {
   "cell_type": "code",
   "execution_count": 3,
   "metadata": {},
   "outputs": [],
   "source": [
    "supported_engines = ['synapgrad', 'torch']"
   ]
  },
  {
   "cell_type": "code",
   "execution_count": 4,
   "metadata": {},
   "outputs": [],
   "source": [
    "seed = 1337\n",
    "engine_str = 'synapgrad'"
   ]
  },
  {
   "cell_type": "code",
   "execution_count": 5,
   "metadata": {},
   "outputs": [],
   "source": [
    "epochs = 20\n",
    "batch_size = 64\n",
    "lr = 0.01"
   ]
  },
  {
   "cell_type": "code",
   "execution_count": 6,
   "metadata": {},
   "outputs": [
    {
     "name": "stdout",
     "output_type": "stream",
     "text": [
      "Engine: synapgrad\n"
     ]
    }
   ],
   "source": [
    "if engine_str == 'synapgrad':\n",
    "    import synapgrad as engine\n",
    "    from synapgrad import nn\n",
    "    from synapgrad import optim\n",
    "elif engine_str == 'torch':\n",
    "    import torch as engine\n",
    "    from torch import nn\n",
    "    from torch import optim\n",
    "engine.manual_seed(seed)\n",
    "print(\"Engine:\", engine_str)"
   ]
  },
  {
   "attachments": {},
   "cell_type": "markdown",
   "metadata": {},
   "source": [
    "Load dataset"
   ]
  },
  {
   "cell_type": "code",
   "execution_count": 7,
   "metadata": {},
   "outputs": [
    {
     "name": "stdout",
     "output_type": "stream",
     "text": [
      "Train: X=(48000, 28, 28), y=(48000,)\n",
      "Val: X=(12000, 28, 28), y=(12000,)\n",
      "Test: X=(10000, 28, 28), y=(10000,)\n"
     ]
    }
   ],
   "source": [
    "(trainX, trainy), (testX, testy) = mnist.load_data()\n",
    "(trainX, trainy), (valX, valy), _  = split_dataset(trainX, trainy, test_split=0.2)\n",
    "\n",
    "trainX = trainX / 255.0\n",
    "valX = valX / 255.0\n",
    "testX = testX / 255.0\n",
    "\n",
    "assert 0 <= np.max(trainX) <= 1\n",
    "\n",
    "# summarize loaded dataset\n",
    "print('Train: X=%s, y=%s' % (trainX.shape, trainy.shape))\n",
    "print('Val: X=%s, y=%s' % (valX.shape, valy.shape))\n",
    "print('Test: X=%s, y=%s' % (testX.shape, testy.shape))"
   ]
  },
  {
   "cell_type": "code",
   "execution_count": 8,
   "metadata": {},
   "outputs": [
    {
     "name": "stdout",
     "output_type": "stream",
     "text": [
      "Train batches: 750 | Val batches: 46 | Test batches: 39\n"
     ]
    }
   ],
   "source": [
    "class Transform(DataLoaderCallback):\n",
    "    \n",
    "    def __call__(self, data_loader:'DataLoader', X_batch:np.ndarray, y_batch:np.ndarray):\n",
    "        if engine_str == 'torch':\n",
    "            x = engine.tensor(X_batch).type(engine.FloatTensor)\n",
    "            y = engine.tensor(y_batch).type(engine.LongTensor)\n",
    "        elif engine_str == 'synapgrad':\n",
    "            x = engine.tensor(X_batch)\n",
    "            y = engine.tensor(y_batch, dtype=np.int8)\n",
    "        return x, y\n",
    "\n",
    "transform_cb = Transform()\n",
    "\n",
    "train_loader = DataLoader(trainX, trainy, batch_size, engine=engine, transform=transform_cb)\n",
    "val_loader = DataLoader(valX, valy, batch_size=256, engine=engine, transform=transform_cb) # big batch size for val samples\n",
    "test_loader = DataLoader(testX, testy, batch_size=256, engine=engine, transform=transform_cb) # big batch size for val samples\n",
    "\n",
    "print(\"Train batches:\", len(train_loader), \"| Val batches:\", len(val_loader), \"| Test batches:\", len(test_loader))"
   ]
  },
  {
   "attachments": {},
   "cell_type": "markdown",
   "metadata": {},
   "source": [
    "Plot a few training images"
   ]
  },
  {
   "cell_type": "code",
   "execution_count": 9,
   "metadata": {},
   "outputs": [
    {
     "data": {
      "image/png": "[encoded data removed]",
      "text/plain": [
       "<Figure size 504x504 with 9 Axes>"
      ]
     },
     "metadata": {
      "needs_background": "light"
     },
     "output_type": "display_data"
    }
   ],
   "source": [
    "plt.figure(figsize=(7,7))\n",
    "for i in range(9):\n",
    "    plt.subplot(330 + 1 + i)\n",
    "    plt.imshow(trainX[i], cmap=plt.get_cmap('gray'))\n",
    "plt.show()"
   ]
  },
  {
   "cell_type": "code",
   "execution_count": 10,
   "metadata": {},
   "outputs": [
    {
     "name": "stdout",
     "output_type": "stream",
     "text": [
      "MLP Model: MultiLayerPerceptron(tracked_modules=1, parameters=178710, trainable=178710, non_trainable=0)\n",
      "MLP Trainable Parameters: 178710\n"
     ]
    }
   ],
   "source": [
    "class MultiLayerPerceptron(nn.Module):\n",
    "    \n",
    "    def __init__(self):\n",
    "        super().__init__()\n",
    "    \n",
    "        self.mlp = nn.Sequential(\n",
    "            nn.Flatten(start_dim=1, end_dim=-1),\n",
    "            nn.Linear(784, 200),\n",
    "            nn.BatchNorm1d(200),\n",
    "            nn.ReLU(),\n",
    "            nn.Dropout(p=0.2),\n",
    "            nn.Linear(200, 100),\n",
    "            nn.BatchNorm1d(100),\n",
    "            nn.ReLU(),\n",
    "            nn.Linear(100, 10),\n",
    "            nn.LogSoftmax(dim=1)\n",
    "        )\n",
    "        if engine_str == 'synapgrad': self.track_module(self.mlp)\n",
    "        \n",
    "    def forward(self, x:engine.Tensor):\n",
    "        out = self.mlp(x)\n",
    "        \n",
    "        return out\n",
    "\n",
    "model = MultiLayerPerceptron()\n",
    "print(\"MLP Model:\", model)\n",
    "print(\"MLP Trainable Parameters:\", sum(p.numel() for p in model.parameters() if p.requires_grad))"
   ]
  },
  {
   "cell_type": "code",
   "execution_count": 11,
   "metadata": {},
   "outputs": [
    {
     "name": "stdout",
     "output_type": "stream",
     "text": [
      "Epoch: 1/20\n",
      "750/750 [================================] - 6s 8ms/step - loss: 0.4072 - accuracy: 0.8801 - val_loss: 0.1803 - val_accuracy: 0.9445\n",
      "Epoch: 2/20\n",
      "750/750 [================================] - 6s 8ms/step - loss: 0.2031 - accuracy: 0.9379 - val_loss: 0.1424 - val_accuracy: 0.9553\n",
      "Epoch: 3/20\n",
      "750/750 [================================] - 6s 8ms/step - loss: 0.1650 - accuracy: 0.9489 - val_loss: 0.1230 - val_accuracy: 0.9626\n",
      "Epoch: 4/20\n",
      "750/750 [================================] - 6s 8ms/step - loss: 0.1352 - accuracy: 0.9568 - val_loss: 0.1152 - val_accuracy: 0.9648\n",
      "Epoch: 5/20\n",
      "750/750 [================================] - 6s 8ms/step - loss: 0.1186 - accuracy: 0.9624 - val_loss: 0.1029 - val_accuracy: 0.9680\n",
      "Epoch: 6/20\n",
      "750/750 [================================] - 6s 8ms/step - loss: 0.1036 - accuracy: 0.9677 - val_loss: 0.1015 - val_accuracy: 0.9686\n",
      "Epoch: 7/20\n",
      "750/750 [================================] - 6s 8ms/step - loss: 0.0923 - accuracy: 0.9714 - val_loss: 0.0969 - val_accuracy: 0.9705\n",
      "Epoch: 8/20\n",
      "750/750 [================================] - 6s 8ms/step - loss: 0.0825 - accuracy: 0.9733 - val_loss: 0.0919 - val_accuracy: 0.9719\n",
      "Epoch: 9/20\n",
      "750/750 [================================] - 6s 8ms/step - loss: 0.0753 - accuracy: 0.9755 - val_loss: 0.0881 - val_accuracy: 0.9736\n",
      "Epoch: 10/20\n",
      "750/750 [================================] - 6s 9ms/step - loss: 0.0659 - accuracy: 0.9789 - val_loss: 0.0865 - val_accuracy: 0.9727\n",
      "Epoch: 11/20\n",
      "750/750 [================================] - 9s 11ms/step - loss: 0.0625 - accuracy: 0.9798 - val_loss: 0.0868 - val_accuracy: 0.9747\n",
      "Epoch: 12/20\n",
      "750/750 [================================] - 7s 9ms/step - loss: 0.0587 - accuracy: 0.9805 - val_loss: 0.0840 - val_accuracy: 0.9750\n",
      "Epoch: 13/20\n",
      "750/750 [================================] - 7s 10ms/step - loss: 0.0534 - accuracy: 0.9823 - val_loss: 0.0824 - val_accuracy: 0.9764\n",
      "Epoch: 14/20\n",
      "750/750 [================================] - 7s 9ms/step - loss: 0.0484 - accuracy: 0.9845 - val_loss: 0.0805 - val_accuracy: 0.9768\n",
      "Epoch: 15/20\n",
      "750/750 [================================] - 7s 10ms/step - loss: 0.0445 - accuracy: 0.9853 - val_loss: 0.0812 - val_accuracy: 0.9760\n",
      "Epoch: 16/20\n",
      "750/750 [================================] - 6s 8ms/step - loss: 0.0427 - accuracy: 0.9860 - val_loss: 0.0818 - val_accuracy: 0.9761\n",
      "Epoch: 17/20\n",
      "750/750 [================================] - 6s 8ms/step - loss: 0.0395 - accuracy: 0.9875 - val_loss: 0.0817 - val_accuracy: 0.9761\n",
      "Epoch: 18/20\n",
      "750/750 [================================] - 7s 9ms/step - loss: 0.0376 - accuracy: 0.9878 - val_loss: 0.0809 - val_accuracy: 0.9772\n",
      "Epoch: 19/20\n",
      "750/750 [================================] - 6s 8ms/step - loss: 0.0347 - accuracy: 0.9884 - val_loss: 0.0822 - val_accuracy: 0.9772\n",
      "Epoch: 20/20\n",
      "750/750 [================================] - 6s 8ms/step - loss: 0.0325 - accuracy: 0.9895 - val_loss: 0.0825 - val_accuracy: 0.9773\n"
     ]
    }
   ],
   "source": [
    "loss_fn = nn.NLLLoss()\n",
    "optimizer = optim.SGD(model.parameters(), lr=lr, momentum=0.9)\n",
    "\n",
    "trainer = Trainer(model, engine)\n",
    "evaluator = Evaluator(accuracy=True, mode=Evaluator.MULTI_CLASS)\n",
    "trainer.compile(loss_fn, optimizer, evaluator)\n",
    "history = trainer.fit(train_loader, epochs=epochs, validation_loader=val_loader)"
   ]
  },
  {
   "cell_type": "code",
   "execution_count": 12,
   "metadata": {},
   "outputs": [
    {
     "data": {
      "image/png": "[encoded data removed]",
      "text/plain": [
       "<Figure size 1080x360 with 2 Axes>"
      ]
     },
     "metadata": {
      "needs_background": "light"
     },
     "output_type": "display_data"
    }
   ],
   "source": [
    "trainer.plot(['accuracy', 'loss'], ylim=[0, 1])"
   ]
  },
  {
   "cell_type": "code",
   "execution_count": 13,
   "metadata": {},
   "outputs": [
    {
     "name": "stdout",
     "output_type": "stream",
     "text": [
      "[INFO] Testing network...\n",
      "Accuracy: 0.9777644230769231\n",
      "[[ 969    0    0    1    1    2    1    1    0    4]\n",
      " [   0 1128    1    0    0    0    2    0    2    0]\n",
      " [   7    2 1002    3    1    0    2    8    5    0]\n",
      " [   1    0    6  985    0    5    0    7    3    1]\n",
      " [   1    0    3    1  955    0    1    3    0   16]\n",
      " [   3    1    0    7    2  870    3    1    1    2]\n",
      " [   3    4    1    1    5    9  931    0    2    0]\n",
      " [   2    5   10    2    0    1    0 1000    2    5]\n",
      " [   1    0    4    6    2    5    2    3  945    5]\n",
      " [   2    3    0    7    5    1    1    9    3  977]]\n",
      "              precision    recall  f1-score   support\n",
      "\n",
      "           0       0.98      0.99      0.98       979\n",
      "           1       0.99      1.00      0.99      1133\n",
      "           2       0.98      0.97      0.97      1030\n",
      "           3       0.97      0.98      0.97      1008\n",
      "           4       0.98      0.97      0.98       980\n",
      "           5       0.97      0.98      0.98       890\n",
      "           6       0.99      0.97      0.98       956\n",
      "           7       0.97      0.97      0.97      1027\n",
      "           8       0.98      0.97      0.98       973\n",
      "           9       0.97      0.97      0.97      1008\n",
      "\n",
      "    accuracy                           0.98      9984\n",
      "   macro avg       0.98      0.98      0.98      9984\n",
      "weighted avg       0.98      0.98      0.98      9984\n",
      "\n"
     ]
    }
   ],
   "source": [
    "y_pred, y_true = trainer.test(test_loader)\n",
    "evaluator.report(y_pred, y_true)"
   ]
  },
  {
   "cell_type": "code",
   "execution_count": 14,
   "metadata": {},
   "outputs": [
    {
     "data": {
      "image/png": "[encoded data removed]",
      "text/plain": [
       "<Figure size 864x864 with 9 Axes>"
      ]
     },
     "metadata": {
      "needs_background": "light"
     },
     "output_type": "display_data"
    }
   ],
   "source": [
    "plt.figure(figsize=(12,12))\n",
    "for i in range(9):\n",
    "    plt.subplot(330 + 1 + i)\n",
    "    plt.imshow(testX[i].reshape(28,28), cmap=plt.get_cmap('gray'))\n",
    "    pred = y_pred[i].argmax(); label = y_true[i]\n",
    "    plt.title(f\"Pred: {pred} | Class: {label}\")\n",
    "plt.show()"
   ]
  }
 ],
 "metadata": {
  "kernelspec": {
   "display_name": "base",
   "language": "python",
   "name": "python3"
  },
  "language_info": {
   "codemirror_mode": {
    "name": "ipython",
    "version": 3
   },
   "file_extension": ".py",
   "mimetype": "text/x-python",
   "name": "python",
   "nbconvert_exporter": "python",
   "pygments_lexer": "ipython3",
   "version": "3.9.12"
  },
  "orig_nbformat": 4
 },
 "nbformat": 4,
 "nbformat_minor": 2
}
