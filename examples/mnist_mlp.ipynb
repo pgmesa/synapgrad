{
 "cells": [
  {
   "attachments": {},
   "cell_type": "markdown",
   "metadata": {},
   "source": [
    "### MNIST dataset MLP example with synapgrad"
   ]
  },
  {
   "cell_type": "code",
   "execution_count": 1,
   "metadata": {},
   "outputs": [],
   "source": [
    "import os\n",
    "import sys\n",
    "import numpy as np\n",
    "import matplotlib.pyplot as plt\n",
    "from keras.datasets import mnist\n",
    "\n",
    "# Import .././ directory\n",
    "module_path = os.path.abspath(os.path.join('..'))\n",
    "if module_path not in sys.path:\n",
    "    sys.path.append(module_path)"
   ]
  },
  {
   "cell_type": "code",
   "execution_count": 2,
   "metadata": {},
   "outputs": [],
   "source": [
    "from synapgrad.utils.data import split_dataset, DataLoader, DataLoaderCallback\n",
    "from synapgrad.utils.train import Trainer, Evaluator"
   ]
  },
  {
   "cell_type": "code",
   "execution_count": 3,
   "metadata": {},
   "outputs": [],
   "source": [
    "supported_engines = ['synapgrad', 'torch']"
   ]
  },
  {
   "cell_type": "code",
   "execution_count": 4,
   "metadata": {},
   "outputs": [],
   "source": [
    "seed = 1337\n",
    "engine_str = 'synapgrad'"
   ]
  },
  {
   "cell_type": "code",
   "execution_count": 5,
   "metadata": {},
   "outputs": [],
   "source": [
    "epochs = 20\n",
    "batch_size = 64\n",
    "lr = 0.01"
   ]
  },
  {
   "cell_type": "code",
   "execution_count": 6,
   "metadata": {},
   "outputs": [
    {
     "name": "stdout",
     "output_type": "stream",
     "text": [
      "Engine: synapgrad\n"
     ]
    }
   ],
   "source": [
    "if engine_str == 'synapgrad':\n",
    "    import synapgrad as engine\n",
    "    from synapgrad import nn\n",
    "    from synapgrad import optim\n",
    "elif engine_str == 'torch':\n",
    "    import torch as engine\n",
    "    from torch import nn\n",
    "    from torch import optim\n",
    "engine.manual_seed(seed)\n",
    "print(\"Engine:\", engine_str)"
   ]
  },
  {
   "attachments": {},
   "cell_type": "markdown",
   "metadata": {},
   "source": [
    "Load dataset"
   ]
  },
  {
   "cell_type": "code",
   "execution_count": 7,
   "metadata": {},
   "outputs": [
    {
     "name": "stdout",
     "output_type": "stream",
     "text": [
      "Train: X=(48000, 28, 28), y=(48000,)\n",
      "Val: X=(12000, 28, 28), y=(12000,)\n",
      "Test: X=(10000, 28, 28), y=(10000,)\n"
     ]
    }
   ],
   "source": [
    "(trainX, trainy), (testX, testy) = mnist.load_data()\n",
    "(trainX, trainy), (valX, valy), _  = split_dataset(trainX, trainy, test_split=0.2)\n",
    "\n",
    "trainX = trainX / 255.0\n",
    "valX = valX / 255.0\n",
    "testX = testX / 255.0\n",
    "\n",
    "assert 0 <= np.max(trainX) <= 1\n",
    "\n",
    "# summarize loaded dataset\n",
    "print('Train: X=%s, y=%s' % (trainX.shape, trainy.shape))\n",
    "print('Val: X=%s, y=%s' % (valX.shape, valy.shape))\n",
    "print('Test: X=%s, y=%s' % (testX.shape, testy.shape))"
   ]
  },
  {
   "cell_type": "code",
   "execution_count": 8,
   "metadata": {},
   "outputs": [
    {
     "name": "stdout",
     "output_type": "stream",
     "text": [
      "Train batches: 750 | Val batches: 46 | Test batches: 39\n"
     ]
    }
   ],
   "source": [
    "class Transform(DataLoaderCallback):\n",
    "    \n",
    "    def __call__(self, data_loader:'DataLoader', X_batch:np.ndarray, y_batch:np.ndarray):\n",
    "        if engine_str == 'torch':\n",
    "            x = engine.tensor(X_batch).type(engine.FloatTensor)\n",
    "            y = engine.tensor(y_batch).type(engine.LongTensor)\n",
    "        elif engine_str == 'synapgrad':\n",
    "            x = engine.tensor(X_batch)\n",
    "            y = engine.tensor(y_batch, dtype=np.int8)\n",
    "        return x, y\n",
    "\n",
    "transform_cb = Transform()\n",
    "\n",
    "train_loader = DataLoader(trainX, trainy, batch_size, engine=engine, transform=transform_cb)\n",
    "val_loader = DataLoader(valX, valy, batch_size=256, engine=engine, transform=transform_cb) # big batch size for val samples\n",
    "test_loader = DataLoader(testX, testy, batch_size=256, engine=engine, transform=transform_cb) # big batch size for val samples\n",
    "\n",
    "print(\"Train batches:\", len(train_loader), \"| Val batches:\", len(val_loader), \"| Test batches:\", len(test_loader))"
   ]
  },
  {
   "attachments": {},
   "cell_type": "markdown",
   "metadata": {},
   "source": [
    "Plot a few training images"
   ]
  },
  {
   "cell_type": "code",
   "execution_count": 9,
   "metadata": {},
   "outputs": [
    {
     "data": {
      "image/png": "[encoded data removed]",
      "text/plain": [
       "<Figure size 504x504 with 9 Axes>"
      ]
     },
     "metadata": {
      "needs_background": "light"
     },
     "output_type": "display_data"
    }
   ],
   "source": [
    "plt.figure(figsize=(7,7))\n",
    "for i in range(9):\n",
    "    plt.subplot(330 + 1 + i)\n",
    "    plt.imshow(trainX[i], cmap=plt.get_cmap('gray'))\n",
    "plt.show()"
   ]
  },
  {
   "cell_type": "code",
   "execution_count": 10,
   "metadata": {},
   "outputs": [
    {
     "name": "stdout",
     "output_type": "stream",
     "text": [
      "MLP Model: MultiLayerPerceptron(tracked_modules=1, parameters=178110, trainable=178110, non_trainable=0)\n"
     ]
    }
   ],
   "source": [
    "class MultiLayerPerceptron(nn.Module):\n",
    "    \n",
    "    def __init__(self):\n",
    "        super().__init__()\n",
    "        self.flatten = nn.Flatten(start_dim=1, end_dim=-1)\n",
    "        self.linear1 = nn.Linear(784, 200)\n",
    "        self.linear2 = nn.Linear(200, 100)\n",
    "        self.logits = nn.Linear(100, 10)\n",
    "        self.relu = nn.ReLU()\n",
    "        self.log_probs = nn.LogSoftmax(dim=1) \n",
    "        \n",
    "        self.mlp = nn.Sequential(\n",
    "            self.flatten,\n",
    "            self.linear1,\n",
    "            self.relu,\n",
    "            self.linear2,\n",
    "            self.relu,\n",
    "            self.logits,\n",
    "            self.log_probs\n",
    "        )\n",
    "        if engine_str == 'synapgrad': self.track_module(self.mlp)\n",
    "        \n",
    "    def forward(self, x:engine.Tensor):\n",
    "        out = self.mlp(x)\n",
    "        \n",
    "        return out\n",
    "\n",
    "model = MultiLayerPerceptron()\n",
    "print(\"MLP Model:\", model)"
   ]
  },
  {
   "cell_type": "code",
   "execution_count": 11,
   "metadata": {},
   "outputs": [
    {
     "name": "stdout",
     "output_type": "stream",
     "text": [
      "Epoch: 1/20\n",
      "750/750 [================================] - 3s 4ms/step - loss: 0.3377 - accuracy: 0.9005 - val_loss: 0.1977 - val_accuracy: 0.9412\n",
      "Epoch: 2/20\n",
      "750/750 [================================] - 3s 4ms/step - loss: 0.1422 - accuracy: 0.9578 - val_loss: 0.1492 - val_accuracy: 0.9572\n",
      "Epoch: 3/20\n",
      "750/750 [================================] - 3s 4ms/step - loss: 0.0984 - accuracy: 0.9710 - val_loss: 0.1278 - val_accuracy: 0.9634\n",
      "Epoch: 4/20\n",
      "750/750 [================================] - 3s 4ms/step - loss: 0.0739 - accuracy: 0.9785 - val_loss: 0.1147 - val_accuracy: 0.9669\n",
      "Epoch: 5/20\n",
      "750/750 [================================] - 3s 4ms/step - loss: 0.0564 - accuracy: 0.9843 - val_loss: 0.1075 - val_accuracy: 0.9695\n",
      "Epoch: 6/20\n",
      "750/750 [================================] - 3s 4ms/step - loss: 0.0438 - accuracy: 0.9886 - val_loss: 0.1058 - val_accuracy: 0.9706\n",
      "Epoch: 7/20\n",
      "750/750 [================================] - 3s 4ms/step - loss: 0.0341 - accuracy: 0.9918 - val_loss: 0.1041 - val_accuracy: 0.9707\n",
      "Epoch: 8/20\n",
      "750/750 [================================] - 3s 4ms/step - loss: 0.0270 - accuracy: 0.9942 - val_loss: 0.1038 - val_accuracy: 0.9710\n",
      "Epoch: 9/20\n",
      "750/750 [================================] - 3s 4ms/step - loss: 0.0216 - accuracy: 0.9958 - val_loss: 0.1027 - val_accuracy: 0.9726\n",
      "Epoch: 10/20\n",
      "750/750 [================================] - 3s 4ms/step - loss: 0.0172 - accuracy: 0.9973 - val_loss: 0.1016 - val_accuracy: 0.9728\n",
      "Epoch: 11/20\n",
      "750/750 [================================] - 3s 4ms/step - loss: 0.0138 - accuracy: 0.9982 - val_loss: 0.1010 - val_accuracy: 0.9732\n",
      "Epoch: 12/20\n",
      "750/750 [================================] - 3s 4ms/step - loss: 0.0112 - accuracy: 0.9988 - val_loss: 0.1015 - val_accuracy: 0.9732\n",
      "Epoch: 13/20\n",
      "750/750 [================================] - 3s 4ms/step - loss: 0.0091 - accuracy: 0.9991 - val_loss: 0.1038 - val_accuracy: 0.9739\n",
      "Epoch: 14/20\n",
      "750/750 [================================] - 3s 4ms/step - loss: 0.0076 - accuracy: 0.9994 - val_loss: 0.1056 - val_accuracy: 0.9738\n",
      "Epoch: 15/20\n",
      "750/750 [================================] - 3s 4ms/step - loss: 0.0063 - accuracy: 0.9996 - val_loss: 0.1075 - val_accuracy: 0.9740\n",
      "Epoch: 16/20\n",
      "750/750 [================================] - 3s 4ms/step - loss: 0.0053 - accuracy: 0.9998 - val_loss: 0.1095 - val_accuracy: 0.9743\n",
      "Epoch: 17/20\n",
      "750/750 [================================] - 4s 5ms/step - loss: 0.0045 - accuracy: 0.9999 - val_loss: 0.1108 - val_accuracy: 0.9746\n",
      "Epoch: 18/20\n",
      "750/750 [================================] - 3s 4ms/step - loss: 0.0039 - accuracy: 1.0000 - val_loss: 0.1107 - val_accuracy: 0.9749\n",
      "Epoch: 19/20\n",
      "750/750 [================================] - 3s 4ms/step - loss: 0.0034 - accuracy: 1.0000 - val_loss: 0.1108 - val_accuracy: 0.9749\n",
      "Epoch: 20/20\n",
      "750/750 [================================] - 3s 4ms/step - loss: 0.0030 - accuracy: 1.0000 - val_loss: 0.1107 - val_accuracy: 0.9752\n"
     ]
    }
   ],
   "source": [
    "loss_fn = nn.NLLLoss()\n",
    "optimizer = optim.SGD(model.parameters(), lr=lr, momentum=0.9)\n",
    "\n",
    "trainer = Trainer(model, engine)\n",
    "evaluator = Evaluator(accuracy=True, mode=Evaluator.MULTI_CLASS)\n",
    "trainer.compile(loss_fn, optimizer, evaluator)\n",
    "history = trainer.fit(train_loader, epochs=epochs, validation_loader=val_loader)"
   ]
  },
  {
   "cell_type": "code",
   "execution_count": 12,
   "metadata": {},
   "outputs": [
    {
     "data": {
      "image/png": "[encoded data removed]",
      "text/plain": [
       "<Figure size 1080x360 with 2 Axes>"
      ]
     },
     "metadata": {
      "needs_background": "light"
     },
     "output_type": "display_data"
    }
   ],
   "source": [
    "trainer.plot(['accuracy', 'loss'], ylim=[0, 1])"
   ]
  },
  {
   "cell_type": "code",
   "execution_count": 13,
   "metadata": {},
   "outputs": [
    {
     "name": "stdout",
     "output_type": "stream",
     "text": [
      "[INFO] Testing network...\n",
      "Accuracy: 0.9746594551282052\n",
      "[[ 969    0    0    1    0    3    3    1    1    1]\n",
      " [   0 1126    2    0    1    1    2    0    1    0]\n",
      " [   8    2 1001    1    2    2    2    7    5    0]\n",
      " [   1    0    6  972    0   13    0    6    4    6]\n",
      " [   2    0    3    1  959    0    3    2    1    9]\n",
      " [   2    1    0    4    2  870    6    0    4    1]\n",
      " [   6    2    1    1    6    7  932    1    0    0]\n",
      " [   0    5   12    3    4    0    0  992    3    8]\n",
      " [   4    1    4    4    4   13    2    1  937    3]\n",
      " [   3    3    0    3   13    2    2    5    4  973]]\n",
      "              precision    recall  f1-score   support\n",
      "\n",
      "           0       0.97      0.99      0.98       979\n",
      "           1       0.99      0.99      0.99      1133\n",
      "           2       0.97      0.97      0.97      1030\n",
      "           3       0.98      0.96      0.97      1008\n",
      "           4       0.97      0.98      0.97       980\n",
      "           5       0.95      0.98      0.97       890\n",
      "           6       0.98      0.97      0.98       956\n",
      "           7       0.98      0.97      0.97      1027\n",
      "           8       0.98      0.96      0.97       973\n",
      "           9       0.97      0.97      0.97      1008\n",
      "\n",
      "    accuracy                           0.97      9984\n",
      "   macro avg       0.97      0.97      0.97      9984\n",
      "weighted avg       0.97      0.97      0.97      9984\n",
      "\n"
     ]
    }
   ],
   "source": [
    "y_pred, y_true = trainer.test(test_loader)\n",
    "evaluator.report(y_pred, y_true)"
   ]
  },
  {
   "cell_type": "code",
   "execution_count": 14,
   "metadata": {},
   "outputs": [
    {
     "data": {
      "image/png": "[encoded data removed]",
      "text/plain": [
       "<Figure size 864x864 with 9 Axes>"
      ]
     },
     "metadata": {
      "needs_background": "light"
     },
     "output_type": "display_data"
    }
   ],
   "source": [
    "plt.figure(figsize=(12,12))\n",
    "for i in range(9):\n",
    "    plt.subplot(330 + 1 + i)\n",
    "    plt.imshow(testX[i].reshape(28,28), cmap=plt.get_cmap('gray'))\n",
    "    pred = y_pred[i].argmax(); label = y_true[i]\n",
    "    plt.title(f\"Pred: {pred} | Class: {label}\")\n",
    "plt.show()"
   ]
  }
 ],
 "metadata": {
  "kernelspec": {
   "display_name": "base",
   "language": "python",
   "name": "python3"
  },
  "language_info": {
   "codemirror_mode": {
    "name": "ipython",
    "version": 3
   },
   "file_extension": ".py",
   "mimetype": "text/x-python",
   "name": "python",
   "nbconvert_exporter": "python",
   "pygments_lexer": "ipython3",
   "version": "3.9.12"
  },
  "orig_nbformat": 4
 },
 "nbformat": 4,
 "nbformat_minor": 2
}
