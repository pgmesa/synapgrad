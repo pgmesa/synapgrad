{
 "cells": [
  {
   "cell_type": "code",
   "execution_count": null,
   "metadata": {},
   "outputs": [],
   "source": []
  }
 ],
 "metadata": {
  "kernelspec": {
   "display_name": "Python 3",
   "language": "python",
   "name": "python3"
  },
  "language_info": {
   "name": "python",
   "version": "3.9.6"
  },
  "orig_nbformat": 4,
  "vscode": {
   "interpreter": {
    "hash": "cbb9f492830e4cd186c0e5c794844362fe689218f9755ab9bd4e820e218d64bb"
   }
  }
 },
 "nbformat": 4,
 "nbformat_minor": 2
}
