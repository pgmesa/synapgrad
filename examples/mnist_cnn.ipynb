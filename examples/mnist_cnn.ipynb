{
 "cells": [
  {
   "attachments": {},
   "cell_type": "markdown",
   "metadata": {},
   "source": [
    "### MNIST dataset CNN example with synapgrad"
   ]
  },
  {
   "cell_type": "code",
   "execution_count": 1,
   "metadata": {},
   "outputs": [],
   "source": [
    "import os\n",
    "import sys\n",
    "import numpy as np\n",
    "import matplotlib.pyplot as plt\n",
    "from keras.datasets import mnist\n",
    "\n",
    "# Import .././ directory\n",
    "module_path = os.path.abspath(os.path.join('..'))\n",
    "if module_path not in sys.path:\n",
    "    sys.path.append(module_path)"
   ]
  },
  {
   "cell_type": "code",
   "execution_count": 2,
   "metadata": {},
   "outputs": [],
   "source": [
    "from synapgrad.utils.data import split_dataset, DataLoader, DataLoaderCallback\n",
    "from synapgrad.utils.train import Trainer, Evaluator"
   ]
  },
  {
   "cell_type": "code",
   "execution_count": 3,
   "metadata": {},
   "outputs": [],
   "source": [
    "supported_engines = ['synapgrad', 'torch']"
   ]
  },
  {
   "cell_type": "code",
   "execution_count": 4,
   "metadata": {},
   "outputs": [],
   "source": [
    "seed = 1337\n",
    "engine_str = 'torch'"
   ]
  },
  {
   "cell_type": "code",
   "execution_count": 5,
   "metadata": {},
   "outputs": [],
   "source": [
    "epochs = 10\n",
    "batch_size = 64\n",
    "lr = 0.01"
   ]
  },
  {
   "cell_type": "code",
   "execution_count": 6,
   "metadata": {},
   "outputs": [
    {
     "name": "stdout",
     "output_type": "stream",
     "text": [
      "Engine: torch\n"
     ]
    }
   ],
   "source": [
    "if engine_str == 'synapgrad':\n",
    "    import synapgrad as engine\n",
    "    from synapgrad import nn\n",
    "    from synapgrad import optim\n",
    "elif engine_str == 'torch':\n",
    "    import torch as engine\n",
    "    from torch import nn\n",
    "    from torch import optim\n",
    "engine.manual_seed(seed)\n",
    "print(\"Engine:\", engine_str)"
   ]
  },
  {
   "attachments": {},
   "cell_type": "markdown",
   "metadata": {},
   "source": [
    "Load dataset"
   ]
  },
  {
   "cell_type": "code",
   "execution_count": 7,
   "metadata": {},
   "outputs": [
    {
     "name": "stdout",
     "output_type": "stream",
     "text": [
      "Sample shape: (1, 28, 28)\n",
      "Train: X=(48000, 1, 28, 28), y=(48000,)\n",
      "Val: X=(12000, 1, 28, 28), y=(12000,)\n",
      "Test: X=(10000, 1, 28, 28), y=(10000,)\n"
     ]
    }
   ],
   "source": [
    "(trainX, trainy), (testX, testy) = mnist.load_data()\n",
    "(trainX, trainy), (valX, valy), _  = split_dataset(trainX, trainy, test_split=0.2)\n",
    "\n",
    "trainX = np.expand_dims(trainX / 255.0, axis=1)\n",
    "valX = np.expand_dims(valX / 255.0, axis=1)\n",
    "testX = np.expand_dims(testX / 255.0, axis=1)\n",
    "\n",
    "assert 0 <= np.max(trainX) <= 1\n",
    "\n",
    "# summarize loaded dataset\n",
    "print(\"Sample shape:\", trainX[0].shape)\n",
    "print('Train: X=%s, y=%s' % (trainX.shape, trainy.shape))\n",
    "print('Val: X=%s, y=%s' % (valX.shape, valy.shape))\n",
    "print('Test: X=%s, y=%s' % (testX.shape, testy.shape))"
   ]
  },
  {
   "cell_type": "code",
   "execution_count": 8,
   "metadata": {},
   "outputs": [
    {
     "name": "stdout",
     "output_type": "stream",
     "text": [
      "Batch sample shape: torch.Size([64, 1, 28, 28])\n",
      "Train batches: 750 | Val batches: 46 | Test batches: 39\n"
     ]
    }
   ],
   "source": [
    "class Transform(DataLoaderCallback):\n",
    "    \n",
    "    def __call__(self, data_loader:'DataLoader', X_batch:np.ndarray, y_batch:np.ndarray):\n",
    "        if engine_str == 'torch':\n",
    "            x = engine.tensor(X_batch).type(engine.FloatTensor)\n",
    "            y = engine.tensor(y_batch).type(engine.LongTensor)\n",
    "        elif engine_str == 'synapgrad':\n",
    "            x = engine.tensor(X_batch)\n",
    "            y = engine.tensor(y_batch, dtype=np.int8)\n",
    "        return x, y\n",
    "\n",
    "transform_cb = Transform()\n",
    "\n",
    "train_loader = DataLoader(trainX, trainy, batch_size, engine=engine, transform=transform_cb)\n",
    "val_loader = DataLoader(valX, valy, batch_size=256, engine=engine, transform=transform_cb) # big batch size for val samples\n",
    "test_loader = DataLoader(testX, testy, batch_size=256, engine=engine, transform=transform_cb) # big batch size for val samples\n",
    "\n",
    "print(\"Batch sample shape:\", train_loader[0][0].shape)\n",
    "print(\"Train batches:\", len(train_loader), \"| Val batches:\", len(val_loader), \"| Test batches:\", len(test_loader))"
   ]
  },
  {
   "attachments": {},
   "cell_type": "markdown",
   "metadata": {},
   "source": [
    "Plot a few training images"
   ]
  },
  {
   "cell_type": "code",
   "execution_count": 9,
   "metadata": {},
   "outputs": [
    {
     "data": {
      "image/png": "[encoded data removed]",
      "text/plain": [
       "<Figure size 504x504 with 9 Axes>"
      ]
     },
     "metadata": {
      "needs_background": "light"
     },
     "output_type": "display_data"
    }
   ],
   "source": [
    "plt.figure(figsize=(7,7))\n",
    "for i in range(9):\n",
    "    plt.subplot(330 + 1 + i)\n",
    "    plt.imshow(trainX[i].squeeze(), cmap=plt.get_cmap('gray'))\n",
    "plt.show()"
   ]
  },
  {
   "cell_type": "code",
   "execution_count": 10,
   "metadata": {},
   "outputs": [
    {
     "name": "stdout",
     "output_type": "stream",
     "text": [
      "CNN Model: CNN(\n",
      "  (conv1): Sequential(\n",
      "    (0): Conv2d(1, 16, kernel_size=(3, 3), stride=(1, 1), padding=same)\n",
      "    (1): BatchNorm2d(16, eps=1e-05, momentum=0.1, affine=True, track_running_stats=True)\n",
      "    (2): ReLU()\n",
      "    (3): Dropout(p=0.3, inplace=False)\n",
      "    (4): MaxPool2d(kernel_size=(2, 2), stride=(2, 2), padding=0, dilation=1, ceil_mode=False)\n",
      "  )\n",
      "  (conv2): Sequential(\n",
      "    (0): Conv2d(16, 32, kernel_size=(3, 3), stride=(1, 1), padding=same)\n",
      "    (1): BatchNorm2d(32, eps=1e-05, momentum=0.1, affine=True, track_running_stats=True)\n",
      "    (2): ReLU()\n",
      "    (3): Dropout(p=0.3, inplace=False)\n",
      "    (4): MaxPool2d(kernel_size=(2, 2), stride=(2, 2), padding=0, dilation=1, ceil_mode=False)\n",
      "  )\n",
      "  (flatten): Flatten(start_dim=1, end_dim=-1)\n",
      "  (out): Linear(in_features=1568, out_features=10, bias=True)\n",
      "  (cnn): Sequential(\n",
      "    (0): Sequential(\n",
      "      (0): Conv2d(1, 16, kernel_size=(3, 3), stride=(1, 1), padding=same)\n",
      "      (1): BatchNorm2d(16, eps=1e-05, momentum=0.1, affine=True, track_running_stats=True)\n",
      "      (2): ReLU()\n",
      "      (3): Dropout(p=0.3, inplace=False)\n",
      "      (4): MaxPool2d(kernel_size=(2, 2), stride=(2, 2), padding=0, dilation=1, ceil_mode=False)\n",
      "    )\n",
      "    (1): Sequential(\n",
      "      (0): Conv2d(16, 32, kernel_size=(3, 3), stride=(1, 1), padding=same)\n",
      "      (1): BatchNorm2d(32, eps=1e-05, momentum=0.1, affine=True, track_running_stats=True)\n",
      "      (2): ReLU()\n",
      "      (3): Dropout(p=0.3, inplace=False)\n",
      "      (4): MaxPool2d(kernel_size=(2, 2), stride=(2, 2), padding=0, dilation=1, ceil_mode=False)\n",
      "    )\n",
      "    (2): Flatten(start_dim=1, end_dim=-1)\n",
      "    (3): Linear(in_features=1568, out_features=10, bias=True)\n",
      "  )\n",
      ")\n"
     ]
    }
   ],
   "source": [
    "class CNN(nn.Module):\n",
    "    \n",
    "    def __init__(self):\n",
    "        super().__init__()\n",
    "        self.conv1 = nn.Sequential(         \n",
    "            nn.Conv2d(1, 16, (3,3), (1,1), padding='same'),  \n",
    "            nn.BatchNorm2d(16),                         \n",
    "            nn.ReLU(),\n",
    "            nn.Dropout(0.3),                    \n",
    "            nn.MaxPool2d(kernel_size=(2,2))\n",
    "        )\n",
    "        self.conv2 = nn.Sequential(         \n",
    "            nn.Conv2d(16, 32, (3,3), (1,1), padding='same'),\n",
    "            nn.BatchNorm2d(32),\n",
    "            nn.ReLU(),     \n",
    "            nn.Dropout(0.3),                 \n",
    "            nn.MaxPool2d(kernel_size=(2,2))\n",
    "        )\n",
    "        self.flatten = nn.Flatten()\n",
    "        self.out = nn.Linear(32 * 7 * 7, 10)\n",
    "        \n",
    "        self.cnn = nn.Sequential(\n",
    "            self.conv1, self.conv2, self.flatten, self.out\n",
    "        )\n",
    "        \n",
    "        if engine_str == 'synapgrad': self.track_module(self.cnn)\n",
    "        \n",
    "    def forward(self, x:engine.Tensor):\n",
    "        out = self.cnn(x)\n",
    "        \n",
    "        return out\n",
    "\n",
    "model = CNN()\n",
    "print(\"CNN Model:\", model)"
   ]
  },
  {
   "cell_type": "code",
   "execution_count": 11,
   "metadata": {},
   "outputs": [
    {
     "name": "stdout",
     "output_type": "stream",
     "text": [
      "Epoch: 1/10\n",
      "750/750 [================================] - 29s 38ms/step - loss: 0.2283 - accuracy: 0.9435 - val_loss: 0.1066 - val_accuracy: 0.9732\n",
      "Epoch: 2/10\n",
      "750/750 [================================] - 27s 35ms/step - loss: 0.0731 - accuracy: 0.9768 - val_loss: 0.0858 - val_accuracy: 0.9778\n",
      "Epoch: 3/10\n",
      "750/750 [================================] - 30s 39ms/step - loss: 0.0627 - accuracy: 0.9805 - val_loss: 0.0739 - val_accuracy: 0.9804\n",
      "Epoch: 4/10\n",
      "750/750 [================================] - 28s 38ms/step - loss: 0.0559 - accuracy: 0.9822 - val_loss: 0.0761 - val_accuracy: 0.9779\n",
      "Epoch: 5/10\n",
      "750/750 [================================] - 29s 38ms/step - loss: 0.0522 - accuracy: 0.9835 - val_loss: 0.0554 - val_accuracy: 0.9853\n",
      "Epoch: 6/10\n",
      "750/750 [================================] - 32s 43ms/step - loss: 0.0489 - accuracy: 0.9847 - val_loss: 0.0533 - val_accuracy: 0.9842\n",
      "Epoch: 7/10\n",
      "750/750 [================================] - 36s 48ms/step - loss: 0.0457 - accuracy: 0.9853 - val_loss: 0.0488 - val_accuracy: 0.9857\n",
      "Epoch: 8/10\n",
      "750/750 [================================] - 35s 47ms/step - loss: 0.0460 - accuracy: 0.9860 - val_loss: 0.0512 - val_accuracy: 0.9854\n",
      "Epoch: 9/10\n",
      "750/750 [================================] - 35s 47ms/step - loss: 0.0450 - accuracy: 0.9866 - val_loss: 0.0560 - val_accuracy: 0.9842\n",
      "Epoch: 10/10\n",
      "750/750 [================================] - 40s 53ms/step - loss: 0.0414 - accuracy: 0.9863 - val_loss: 0.0703 - val_accuracy: 0.9783\n"
     ]
    }
   ],
   "source": [
    "loss_fn = nn.CrossEntropyLoss()\n",
    "optimizer = optim.Adam(model.parameters(), lr=lr)\n",
    "\n",
    "trainer = Trainer(model, engine)\n",
    "evaluator = Evaluator(accuracy=True, mode=Evaluator.MULTI_CLASS)\n",
    "trainer.compile(loss_fn, optimizer, evaluator)\n",
    "history = trainer.fit(train_loader, epochs=epochs, validation_loader=val_loader)"
   ]
  },
  {
   "cell_type": "code",
   "execution_count": 12,
   "metadata": {},
   "outputs": [
    {
     "data": {
      "image/png": "[encoded data removed]",
      "text/plain": [
       "<Figure size 1080x360 with 2 Axes>"
      ]
     },
     "metadata": {
      "needs_background": "light"
     },
     "output_type": "display_data"
    }
   ],
   "source": [
    "trainer.plot(['accuracy', 'loss'], ylim=[0, 1])"
   ]
  },
  {
   "cell_type": "code",
   "execution_count": 13,
   "metadata": {},
   "outputs": [
    {
     "name": "stdout",
     "output_type": "stream",
     "text": [
      "[INFO] Testing network...\n",
      "Accuracy: 0.9845753205128205\n",
      "[[ 974    1    1    0    0    0    1    1    0    1]\n",
      " [   0 1133    0    0    0    0    0    0    0    0]\n",
      " [   1    3 1018    0    1    0    0    6    1    0]\n",
      " [   0    0   10  978    0    4    0    7    3    6]\n",
      " [   0    0    0    0  963    0    1    0    1   15]\n",
      " [   2    1    0    3    0  869    1    1    1   12]\n",
      " [   6    5    0    0    1    3  939    0    2    0]\n",
      " [   0    6    6    0    1    0    0 1012    1    1]\n",
      " [   4    2    3    0    2    2    3    0  952    5]\n",
      " [   0    4    0    0    5    1    0    6    0  992]]\n",
      "              precision    recall  f1-score   support\n",
      "\n",
      "           0       0.99      0.99      0.99       979\n",
      "           1       0.98      1.00      0.99      1133\n",
      "           2       0.98      0.99      0.98      1030\n",
      "           3       1.00      0.97      0.98      1008\n",
      "           4       0.99      0.98      0.99       980\n",
      "           5       0.99      0.98      0.98       890\n",
      "           6       0.99      0.98      0.99       956\n",
      "           7       0.98      0.99      0.98      1027\n",
      "           8       0.99      0.98      0.98       973\n",
      "           9       0.96      0.98      0.97      1008\n",
      "\n",
      "    accuracy                           0.98      9984\n",
      "   macro avg       0.98      0.98      0.98      9984\n",
      "weighted avg       0.98      0.98      0.98      9984\n",
      "\n"
     ]
    }
   ],
   "source": [
    "y_pred, y_true = trainer.test(test_loader)\n",
    "evaluator.report(y_pred, y_true)"
   ]
  },
  {
   "cell_type": "code",
   "execution_count": 14,
   "metadata": {},
   "outputs": [
    {
     "data": {
      "image/png": "[encoded data removed]",
      "text/plain": [
       "<Figure size 864x864 with 9 Axes>"
      ]
     },
     "metadata": {
      "needs_background": "light"
     },
     "output_type": "display_data"
    }
   ],
   "source": [
    "plt.figure(figsize=(12,12))\n",
    "for i in range(9):\n",
    "    plt.subplot(330 + 1 + i)\n",
    "    plt.imshow(testX[i].squeeze(), cmap=plt.get_cmap('gray'))\n",
    "    pred = y_pred[i].argmax(); label = y_true[i]\n",
    "    plt.title(f\"Pred: {pred} | Class: {label}\")\n",
    "plt.show()"
   ]
  }
 ],
 "metadata": {
  "kernelspec": {
   "display_name": "base",
   "language": "python",
   "name": "python3"
  },
  "language_info": {
   "codemirror_mode": {
    "name": "ipython",
    "version": 3
   },
   "file_extension": ".py",
   "mimetype": "text/x-python",
   "name": "python",
   "nbconvert_exporter": "python",
   "pygments_lexer": "ipython3",
   "version": "3.9.12"
  },
  "orig_nbformat": 4
 },
 "nbformat": 4,
 "nbformat_minor": 2
}
