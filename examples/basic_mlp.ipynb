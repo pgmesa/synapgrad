{
 "cells": [
  {
   "attachments": {},
   "cell_type": "markdown",
   "metadata": {},
   "source": [
    "### Basic MLP example with synapgrad"
   ]
  },
  {
   "cell_type": "code",
   "execution_count": null,
   "metadata": {},
   "outputs": [],
   "source": [
    "import os\n",
    "import sys\n",
    "import numpy as np\n",
    "import matplotlib.pyplot as plt\n",
    "\n",
    "# Import .././ directory\n",
    "module_path = os.path.abspath(os.path.join('..'))\n",
    "if module_path not in sys.path:\n",
    "    sys.path.append(module_path)"
   ]
  },
  {
   "cell_type": "code",
   "execution_count": null,
   "metadata": {},
   "outputs": [],
   "source": [
    "from synapgrad.nn.utils.data import split_dataset, DataLoader, DataLoaderCallback\n",
    "from synapgrad.nn.utils.train import Trainer, Evaluator"
   ]
  },
  {
   "cell_type": "code",
   "execution_count": null,
   "metadata": {},
   "outputs": [],
   "source": [
    "supported_engines = ['synapgrad', 'torch']"
   ]
  },
  {
   "cell_type": "code",
   "execution_count": null,
   "metadata": {},
   "outputs": [],
   "source": [
    "seed = 42\n",
    "engine_str = 'synapgrad'"
   ]
  },
  {
   "cell_type": "code",
   "execution_count": null,
   "metadata": {},
   "outputs": [],
   "source": [
    "epochs = 50\n",
    "batch_size = 4\n",
    "lr = 0.1"
   ]
  },
  {
   "cell_type": "code",
   "execution_count": null,
   "metadata": {},
   "outputs": [],
   "source": [
    "if engine_str == 'synapgrad':\n",
    "    import synapgrad as engine\n",
    "    from synapgrad import nn\n",
    "    from synapgrad import optim\n",
    "elif engine_str == 'torch':\n",
    "    import torch as engine\n",
    "    from torch import nn\n",
    "    from torch import optim\n",
    "engine.manual_seed(seed)\n",
    "print(\"Engine:\", engine_str)"
   ]
  },
  {
   "cell_type": "code",
   "execution_count": null,
   "metadata": {},
   "outputs": [],
   "source": [
    "# make up a dataset\n",
    "from sklearn.datasets import make_moons, make_blobs\n",
    "X, y = make_moons(n_samples=150, noise=0.1)\n",
    "\n",
    "y = y*2 - 1 # make y be -1 or 1\n",
    "y = np.where(y > 0, 1, 0).tolist() # 0 or 1\n",
    "# visualize in 2D\n",
    "plt.figure(figsize=(5,5))\n",
    "plt.scatter(X[:,0], X[:,1], c=y, s=20, cmap='jet')"
   ]
  },
  {
   "cell_type": "code",
   "execution_count": null,
   "metadata": {},
   "outputs": [],
   "source": [
    "class MultiLayerPerceptron(nn.Module):\n",
    "    \n",
    "    def __init__(self):\n",
    "        super().__init__()\n",
    "        \n",
    "        self.mlp = nn.Sequential(\n",
    "            nn.Linear(2, 16),\n",
    "            nn.ReLU(),\n",
    "            nn.Linear(16, 16),\n",
    "            nn.ReLU(),\n",
    "            nn.Linear(16, 1)\n",
    "        )\n",
    "        \n",
    "    def forward(self, x:engine.Tensor):\n",
    "        out = self.mlp(x)\n",
    "        \n",
    "        return out\n",
    "\n",
    "model = MultiLayerPerceptron()\n",
    "print(\"MLP Model:\", model)\n",
    "print(\"MLP Trainable Parameters:\", sum(p.numel() for p in model.parameters() if p.requires_grad))"
   ]
  },
  {
   "cell_type": "code",
   "execution_count": null,
   "metadata": {},
   "outputs": [],
   "source": [
    "class Transform(DataLoaderCallback):\n",
    "    \n",
    "    def __call__(self, data_loader:'DataLoader', X_batch:np.ndarray, y_batch:np.ndarray):\n",
    "        x = engine.tensor(X_batch)\n",
    "        y = engine.tensor(y_batch)\n",
    "        return x, y\n",
    "    \n",
    "transform_cb = Transform()\n",
    "\n",
    "split = False\n",
    "if split:\n",
    "    train, val, _ = split_dataset(X, y, test_split=0.2, shuffle=True)\n",
    "    print(\"Train samples:\", len(train), \"| Val samples:\", len(val))\n",
    "    train_loader = DataLoader(train[0], train[1], batch_size, transform=transform_cb)\n",
    "    val_loader = DataLoader(val[0], val[1], len(val[0]), transform=transform_cb) # 1 batch of all val samples\n",
    "    print(\"Train batches:\", len(train_loader), \"| Val batches:\", len(val_loader))\n",
    "else:\n",
    "    train_loader = DataLoader(np.array(X, dtype=np.float32), np.array(y, dtype=np.float32), batch_size, transform=transform_cb)\n",
    "    print(\"Train batches:\", len(train_loader))"
   ]
  },
  {
   "cell_type": "code",
   "execution_count": null,
   "metadata": {},
   "outputs": [],
   "source": [
    "loss_fn = nn.MSELoss() # nn.BCEWithLogitsLoss() could be used as well\n",
    "optimizer = optim.SGD(model.parameters(), lr=lr)\n",
    "\n",
    "trainer = Trainer(model, engine)\n",
    "evaluator = Evaluator(accuracy=True, mode=Evaluator.BINARY)\n",
    "trainer.compile(loss_fn, optimizer, evaluator)\n",
    "history = trainer.fit(train_loader, epochs=epochs, validation_loader=None if not split else val_loader)"
   ]
  },
  {
   "cell_type": "code",
   "execution_count": null,
   "metadata": {},
   "outputs": [],
   "source": [
    "trainer.plot(['accuracy', 'loss'])"
   ]
  },
  {
   "cell_type": "code",
   "execution_count": null,
   "metadata": {},
   "outputs": [],
   "source": [
    "# visualize decision boundary\n",
    "model.eval()\n",
    "h = 0.25\n",
    "x_min, x_max = X[:, 0].min() - 1, X[:, 0].max() + 1\n",
    "y_min, y_max = X[:, 1].min() - 1, X[:, 1].max() + 1\n",
    "xx, yy = np.meshgrid(np.arange(x_min, x_max, h),\n",
    "                     np.arange(y_min, y_max, h))\n",
    "Xmesh = (np.c_[xx.ravel(), yy.ravel()]).astype(np.float32)\n",
    "\n",
    "inputs = engine.tensor(Xmesh)\n",
    "scores = model(inputs)\n",
    "Z = np.array([s.detach().numpy() > 0.5 for s in scores])\n",
    "Z = Z.reshape(xx.shape)\n",
    "\n",
    "fig = plt.figure()\n",
    "plt.contourf(xx, yy, Z, cmap=plt.cm.Spectral, alpha=0.8)\n",
    "plt.scatter(X[:, 0], X[:, 1], c=y, s=40, cmap=plt.cm.Spectral)\n",
    "plt.xlim(xx.min(), xx.max())\n",
    "plt.ylim(yy.min(), yy.max())"
   ]
  }
 ],
 "metadata": {
  "kernelspec": {
   "display_name": "Python 3",
   "language": "python",
   "name": "python3"
  },
  "language_info": {
   "codemirror_mode": {
    "name": "ipython",
    "version": 3
   },
   "file_extension": ".py",
   "mimetype": "text/x-python",
   "name": "python",
   "nbconvert_exporter": "python",
   "pygments_lexer": "ipython3",
   "version": "3.9.16"
  }
 },
 "nbformat": 4,
 "nbformat_minor": 2
}
